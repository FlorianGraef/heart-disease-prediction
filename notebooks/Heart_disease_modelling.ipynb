{
 "cells": [
  {
   "cell_type": "markdown",
   "metadata": {},
   "source": [
    "# Identifying features for prediction of heart disease\n",
    "\n",
    "The target is to build an heart disease predictor and evaluate which features are predictive for heart disease. The dataset used for this is the \"processed.cleveland.data\" file from https://archive.ics.uci.edu/ml/datasets/Heart+Disease.\n",
    "\n",
    "The approach chosen to solve this is predictive modelling. General steps will likely be:\n",
    " 1. loading and exploring the data\n",
    " 2. processing and cleaning it for model training\n",
    " 3. model training\n",
    " 4. Hyperparameter tuning\n",
    " 5. Evaluation\n",
    " 6. Visualisation\n",
    " \n",
    "There will be iteration on steps 2-6."
   ]
  },
  {
   "cell_type": "code",
   "execution_count": 1,
   "metadata": {},
   "outputs": [],
   "source": [
    "import pandas as pd\n",
    "import matplotlib.pyplot as plt\n",
    "from sklearn.ensemble import RandomForestClassifier\n",
    "from sklearn.svm import SVC\n",
    "from sklearn.model_selection import train_test_split, GridSearchCV\n",
    "from sklearn.preprocessing import StandardScaler\n",
    "from sklearn.metrics import accuracy_score, f1_score\n",
    "from sklearn.linear_model import LogisticRegression\n",
    "from sklearn.pipeline import Pipeline\n",
    "import matplotlib.pyplot as plt\n",
    "import shap\n",
    "\n",
    "import numpy as np"
   ]
  },
  {
   "cell_type": "code",
   "execution_count": 2,
   "metadata": {},
   "outputs": [],
   "source": [
    "heart_ds = pd.read_csv('../data/processed.cleveland.data', names=range(1,15))"
   ]
  },
  {
   "cell_type": "code",
   "execution_count": 3,
   "metadata": {},
   "outputs": [],
   "source": [
    "heart_ds.loc[heart_ds[14] > 0, 14] = 1\n",
    "heart_ds.replace(to_replace='?', value=-9, inplace=True)\n",
    "heart_ds[[12, 13]] = heart_ds[[12, 13]].astype('float64')"
   ]
  },
  {
   "cell_type": "code",
   "execution_count": 4,
   "metadata": {},
   "outputs": [],
   "source": [
    "heart_ds.rename(columns={1: 'age', 2: 'sex', 3: 'chest_pain_type', 4: 'rest_blood_pressure', \n",
    "                         5: 'cholesterol', 6: 'fast_blood_sugar', 7: 'rest_ecg', 8: 'max_hr', \n",
    "                         9: 'ex_ang', 10: 'st_depression', 11: 'slope', 12: 'colrd_vessels', \n",
    "                         13: 'thal',  14: 'heart_disease'}, inplace=True)"
   ]
  },
  {
   "cell_type": "code",
   "execution_count": 5,
   "metadata": {},
   "outputs": [
    {
     "data": {
      "text/html": [
       "<div>\n",
       "<style scoped>\n",
       "    .dataframe tbody tr th:only-of-type {\n",
       "        vertical-align: middle;\n",
       "    }\n",
       "\n",
       "    .dataframe tbody tr th {\n",
       "        vertical-align: top;\n",
       "    }\n",
       "\n",
       "    .dataframe thead th {\n",
       "        text-align: right;\n",
       "    }\n",
       "</style>\n",
       "<table border=\"1\" class=\"dataframe\">\n",
       "  <thead>\n",
       "    <tr style=\"text-align: right;\">\n",
       "      <th></th>\n",
       "      <th>age</th>\n",
       "      <th>sex</th>\n",
       "      <th>chest_pain_type</th>\n",
       "      <th>rest_blood_pressure</th>\n",
       "      <th>cholesterol</th>\n",
       "      <th>fast_blood_sugar</th>\n",
       "      <th>rest_ecg</th>\n",
       "      <th>max_hr</th>\n",
       "      <th>ex_ang</th>\n",
       "      <th>st_depression</th>\n",
       "      <th>slope</th>\n",
       "      <th>colrd_vessels</th>\n",
       "      <th>thal</th>\n",
       "      <th>heart_disease</th>\n",
       "    </tr>\n",
       "  </thead>\n",
       "  <tbody>\n",
       "    <tr>\n",
       "      <th>0</th>\n",
       "      <td>63.0</td>\n",
       "      <td>1.0</td>\n",
       "      <td>1.0</td>\n",
       "      <td>145.0</td>\n",
       "      <td>233.0</td>\n",
       "      <td>1.0</td>\n",
       "      <td>2.0</td>\n",
       "      <td>150.0</td>\n",
       "      <td>0.0</td>\n",
       "      <td>2.3</td>\n",
       "      <td>3.0</td>\n",
       "      <td>0.0</td>\n",
       "      <td>6.0</td>\n",
       "      <td>0</td>\n",
       "    </tr>\n",
       "    <tr>\n",
       "      <th>1</th>\n",
       "      <td>67.0</td>\n",
       "      <td>1.0</td>\n",
       "      <td>4.0</td>\n",
       "      <td>160.0</td>\n",
       "      <td>286.0</td>\n",
       "      <td>0.0</td>\n",
       "      <td>2.0</td>\n",
       "      <td>108.0</td>\n",
       "      <td>1.0</td>\n",
       "      <td>1.5</td>\n",
       "      <td>2.0</td>\n",
       "      <td>3.0</td>\n",
       "      <td>3.0</td>\n",
       "      <td>1</td>\n",
       "    </tr>\n",
       "    <tr>\n",
       "      <th>2</th>\n",
       "      <td>67.0</td>\n",
       "      <td>1.0</td>\n",
       "      <td>4.0</td>\n",
       "      <td>120.0</td>\n",
       "      <td>229.0</td>\n",
       "      <td>0.0</td>\n",
       "      <td>2.0</td>\n",
       "      <td>129.0</td>\n",
       "      <td>1.0</td>\n",
       "      <td>2.6</td>\n",
       "      <td>2.0</td>\n",
       "      <td>2.0</td>\n",
       "      <td>7.0</td>\n",
       "      <td>1</td>\n",
       "    </tr>\n",
       "    <tr>\n",
       "      <th>3</th>\n",
       "      <td>37.0</td>\n",
       "      <td>1.0</td>\n",
       "      <td>3.0</td>\n",
       "      <td>130.0</td>\n",
       "      <td>250.0</td>\n",
       "      <td>0.0</td>\n",
       "      <td>0.0</td>\n",
       "      <td>187.0</td>\n",
       "      <td>0.0</td>\n",
       "      <td>3.5</td>\n",
       "      <td>3.0</td>\n",
       "      <td>0.0</td>\n",
       "      <td>3.0</td>\n",
       "      <td>0</td>\n",
       "    </tr>\n",
       "    <tr>\n",
       "      <th>4</th>\n",
       "      <td>41.0</td>\n",
       "      <td>0.0</td>\n",
       "      <td>2.0</td>\n",
       "      <td>130.0</td>\n",
       "      <td>204.0</td>\n",
       "      <td>0.0</td>\n",
       "      <td>2.0</td>\n",
       "      <td>172.0</td>\n",
       "      <td>0.0</td>\n",
       "      <td>1.4</td>\n",
       "      <td>1.0</td>\n",
       "      <td>0.0</td>\n",
       "      <td>3.0</td>\n",
       "      <td>0</td>\n",
       "    </tr>\n",
       "    <tr>\n",
       "      <th>...</th>\n",
       "      <td>...</td>\n",
       "      <td>...</td>\n",
       "      <td>...</td>\n",
       "      <td>...</td>\n",
       "      <td>...</td>\n",
       "      <td>...</td>\n",
       "      <td>...</td>\n",
       "      <td>...</td>\n",
       "      <td>...</td>\n",
       "      <td>...</td>\n",
       "      <td>...</td>\n",
       "      <td>...</td>\n",
       "      <td>...</td>\n",
       "      <td>...</td>\n",
       "    </tr>\n",
       "    <tr>\n",
       "      <th>298</th>\n",
       "      <td>45.0</td>\n",
       "      <td>1.0</td>\n",
       "      <td>1.0</td>\n",
       "      <td>110.0</td>\n",
       "      <td>264.0</td>\n",
       "      <td>0.0</td>\n",
       "      <td>0.0</td>\n",
       "      <td>132.0</td>\n",
       "      <td>0.0</td>\n",
       "      <td>1.2</td>\n",
       "      <td>2.0</td>\n",
       "      <td>0.0</td>\n",
       "      <td>7.0</td>\n",
       "      <td>1</td>\n",
       "    </tr>\n",
       "    <tr>\n",
       "      <th>299</th>\n",
       "      <td>68.0</td>\n",
       "      <td>1.0</td>\n",
       "      <td>4.0</td>\n",
       "      <td>144.0</td>\n",
       "      <td>193.0</td>\n",
       "      <td>1.0</td>\n",
       "      <td>0.0</td>\n",
       "      <td>141.0</td>\n",
       "      <td>0.0</td>\n",
       "      <td>3.4</td>\n",
       "      <td>2.0</td>\n",
       "      <td>2.0</td>\n",
       "      <td>7.0</td>\n",
       "      <td>1</td>\n",
       "    </tr>\n",
       "    <tr>\n",
       "      <th>300</th>\n",
       "      <td>57.0</td>\n",
       "      <td>1.0</td>\n",
       "      <td>4.0</td>\n",
       "      <td>130.0</td>\n",
       "      <td>131.0</td>\n",
       "      <td>0.0</td>\n",
       "      <td>0.0</td>\n",
       "      <td>115.0</td>\n",
       "      <td>1.0</td>\n",
       "      <td>1.2</td>\n",
       "      <td>2.0</td>\n",
       "      <td>1.0</td>\n",
       "      <td>7.0</td>\n",
       "      <td>1</td>\n",
       "    </tr>\n",
       "    <tr>\n",
       "      <th>301</th>\n",
       "      <td>57.0</td>\n",
       "      <td>0.0</td>\n",
       "      <td>2.0</td>\n",
       "      <td>130.0</td>\n",
       "      <td>236.0</td>\n",
       "      <td>0.0</td>\n",
       "      <td>2.0</td>\n",
       "      <td>174.0</td>\n",
       "      <td>0.0</td>\n",
       "      <td>0.0</td>\n",
       "      <td>2.0</td>\n",
       "      <td>1.0</td>\n",
       "      <td>3.0</td>\n",
       "      <td>1</td>\n",
       "    </tr>\n",
       "    <tr>\n",
       "      <th>302</th>\n",
       "      <td>38.0</td>\n",
       "      <td>1.0</td>\n",
       "      <td>3.0</td>\n",
       "      <td>138.0</td>\n",
       "      <td>175.0</td>\n",
       "      <td>0.0</td>\n",
       "      <td>0.0</td>\n",
       "      <td>173.0</td>\n",
       "      <td>0.0</td>\n",
       "      <td>0.0</td>\n",
       "      <td>1.0</td>\n",
       "      <td>-9.0</td>\n",
       "      <td>3.0</td>\n",
       "      <td>0</td>\n",
       "    </tr>\n",
       "  </tbody>\n",
       "</table>\n",
       "<p>303 rows × 14 columns</p>\n",
       "</div>"
      ],
      "text/plain": [
       "      age  sex  chest_pain_type  rest_blood_pressure  cholesterol  \\\n",
       "0    63.0  1.0              1.0                145.0        233.0   \n",
       "1    67.0  1.0              4.0                160.0        286.0   \n",
       "2    67.0  1.0              4.0                120.0        229.0   \n",
       "3    37.0  1.0              3.0                130.0        250.0   \n",
       "4    41.0  0.0              2.0                130.0        204.0   \n",
       "..    ...  ...              ...                  ...          ...   \n",
       "298  45.0  1.0              1.0                110.0        264.0   \n",
       "299  68.0  1.0              4.0                144.0        193.0   \n",
       "300  57.0  1.0              4.0                130.0        131.0   \n",
       "301  57.0  0.0              2.0                130.0        236.0   \n",
       "302  38.0  1.0              3.0                138.0        175.0   \n",
       "\n",
       "     fast_blood_sugar  rest_ecg  max_hr  ex_ang  st_depression  slope  \\\n",
       "0                 1.0       2.0   150.0     0.0            2.3    3.0   \n",
       "1                 0.0       2.0   108.0     1.0            1.5    2.0   \n",
       "2                 0.0       2.0   129.0     1.0            2.6    2.0   \n",
       "3                 0.0       0.0   187.0     0.0            3.5    3.0   \n",
       "4                 0.0       2.0   172.0     0.0            1.4    1.0   \n",
       "..                ...       ...     ...     ...            ...    ...   \n",
       "298               0.0       0.0   132.0     0.0            1.2    2.0   \n",
       "299               1.0       0.0   141.0     0.0            3.4    2.0   \n",
       "300               0.0       0.0   115.0     1.0            1.2    2.0   \n",
       "301               0.0       2.0   174.0     0.0            0.0    2.0   \n",
       "302               0.0       0.0   173.0     0.0            0.0    1.0   \n",
       "\n",
       "     colrd_vessels  thal  heart_disease  \n",
       "0              0.0   6.0              0  \n",
       "1              3.0   3.0              1  \n",
       "2              2.0   7.0              1  \n",
       "3              0.0   3.0              0  \n",
       "4              0.0   3.0              0  \n",
       "..             ...   ...            ...  \n",
       "298            0.0   7.0              1  \n",
       "299            2.0   7.0              1  \n",
       "300            1.0   7.0              1  \n",
       "301            1.0   3.0              1  \n",
       "302           -9.0   3.0              0  \n",
       "\n",
       "[303 rows x 14 columns]"
      ]
     },
     "execution_count": 5,
     "metadata": {},
     "output_type": "execute_result"
    }
   ],
   "source": [
    "heart_ds"
   ]
  },
  {
   "cell_type": "code",
   "execution_count": 6,
   "metadata": {},
   "outputs": [
    {
     "name": "stdout",
     "output_type": "stream",
     "text": [
      "Patients with hear_disease 139\n",
      "Patients without hear_disease 164\n"
     ]
    }
   ],
   "source": [
    "print(\"Patients with hear_disease\",(heart_ds['heart_disease'] == 1).sum())\n",
    "print(\"Patients without hear_disease\", (heart_ds['heart_disease'] == 0).sum())"
   ]
  },
  {
   "cell_type": "code",
   "execution_count": 7,
   "metadata": {},
   "outputs": [],
   "source": [
    "X = heart_ds.drop(columns='heart_disease')\n",
    "y = heart_ds['heart_disease'].values\n",
    "x_train, x_test, y_train, y_test = train_test_split(X, y, test_size=0.20, random_state = 2, stratify=y)"
   ]
  },
  {
   "cell_type": "code",
   "execution_count": 8,
   "metadata": {},
   "outputs": [
    {
     "data": {
      "text/plain": [
       "28"
      ]
     },
     "execution_count": 8,
     "metadata": {},
     "output_type": "execute_result"
    }
   ],
   "source": [
    "list(y_test).count(1)"
   ]
  },
  {
   "cell_type": "code",
   "execution_count": 9,
   "metadata": {},
   "outputs": [],
   "source": [
    "clf = RandomForestClassifier(n_estimators=500, max_depth=8, class_weight='balanced',random_state=2)"
   ]
  },
  {
   "cell_type": "code",
   "execution_count": 10,
   "metadata": {},
   "outputs": [
    {
     "name": "stdout",
     "output_type": "stream",
     "text": [
      "Accuracy: 0.8524590163934426\n",
      "f1=0.830188679245283\n"
     ]
    }
   ],
   "source": [
    "clf.fit(x_train, y_train)\n",
    "y_pred = clf.predict(x_test)\n",
    "acc_score = accuracy_score(y_test, y_pred)\n",
    "f1 = f1_score(y_test, y_pred)\n",
    "print(f\"Accuracy: {acc_score}\")\n",
    "print(f\"{f1=}\")"
   ]
  },
  {
   "cell_type": "code",
   "execution_count": 11,
   "metadata": {},
   "outputs": [
    {
     "name": "stdout",
     "output_type": "stream",
     "text": [
      "age : 0.07623469316074588\n",
      "sex : 0.03835226213936642\n",
      "chest_pain_type : 0.14724217033972634\n",
      "rest_blood_pressure : 0.07618025525666343\n",
      "cholesterol : 0.07329024933263001\n",
      "fast_blood_sugar : 0.010036195923734236\n",
      "rest_ecg : 0.025953307259161278\n",
      "max_hr : 0.10547006397687907\n",
      "ex_ang : 0.04523017951399813\n",
      "st_depression : 0.09785112220330507\n",
      "slope : 0.0513778585757481\n",
      "colrd_vessels : 0.10601014141993234\n",
      "thal : 0.14677150089810992\n"
     ]
    }
   ],
   "source": [
    "for i in range(0, len(clf.feature_importances_)):\n",
    "    print(f\"{X.columns[i]} : {clf.feature_importances_[i]}\")\n"
   ]
  },
  {
   "cell_type": "markdown",
   "metadata": {},
   "source": [
    "This is a decent baseline model. To improve on it we can run a grid search on hyperparameters. Normalization through a scalar will not be beneficial as tree based methods are finding decision thresholds and that works equally well with non scaled parameters."
   ]
  },
  {
   "cell_type": "code",
   "execution_count": 12,
   "metadata": {},
   "outputs": [
    {
     "name": "stdout",
     "output_type": "stream",
     "text": [
      "CPU times: user 9.2 s, sys: 365 ms, total: 9.56 s\n",
      "Wall time: 2min 4s\n"
     ]
    },
    {
     "data": {
      "text/plain": [
       "GridSearchCV(cv=5,\n",
       "             estimator=RandomForestClassifier(class_weight='balanced',\n",
       "                                              random_state=42),\n",
       "             n_jobs=-1,\n",
       "             param_grid={'criterion': ['gini', 'entropy'],\n",
       "                         'max_depth': [2, 3, 4, 5, 6, 8, 10],\n",
       "                         'min_samples_leaf': [3, 4, 5, 8],\n",
       "                         'min_samples_split': [30, 40, 50, 60, 70],\n",
       "                         'n_estimators': [20, 25, 30, 35, 50, 100]},\n",
       "             refit='f1', return_train_score=True,\n",
       "             scoring=['accuracy', 'f1', 'precision', 'recall'])"
      ]
     },
     "execution_count": 12,
     "metadata": {},
     "output_type": "execute_result"
    }
   ],
   "source": [
    "%%time\n",
    "rf_clf = RandomForestClassifier(random_state=42, class_weight='balanced',)\n",
    "params = {'n_estimators': [ 20, 25, 30, 35, 50, 100], \n",
    "         'max_depth': [ 2, 3, 4, 5, 6, 8, 10 ], \n",
    "         'criterion': [\"gini\", \"entropy\"],\n",
    "         'min_samples_split': [30, 40, 50, 60, 70],  \n",
    "          'min_samples_leaf': [3, 4,5,8 ]}\n",
    "grid_clf = GridSearchCV(rf_clf, params, cv=5, scoring=['accuracy', 'f1', 'precision', 'recall'], \n",
    "                        refit='f1', n_jobs=-1, return_train_score=True)\n",
    "grid_clf.fit(x_train, y_train)"
   ]
  },
  {
   "cell_type": "code",
   "execution_count": 13,
   "metadata": {},
   "outputs": [
    {
     "name": "stdout",
     "output_type": "stream",
     "text": [
      "0.8383855360325947\n",
      "{'criterion': 'entropy', 'max_depth': 4, 'min_samples_leaf': 4, 'min_samples_split': 40, 'n_estimators': 35}\n",
      "1119\n"
     ]
    }
   ],
   "source": [
    "print(grid_clf.best_score_)\n",
    "print(grid_clf.best_params_)\n",
    "print(grid_clf.best_index_)\n"
   ]
  },
  {
   "cell_type": "code",
   "execution_count": 14,
   "metadata": {},
   "outputs": [
    {
     "data": {
      "text/html": [
       "<div>\n",
       "<style scoped>\n",
       "    .dataframe tbody tr th:only-of-type {\n",
       "        vertical-align: middle;\n",
       "    }\n",
       "\n",
       "    .dataframe tbody tr th {\n",
       "        vertical-align: top;\n",
       "    }\n",
       "\n",
       "    .dataframe thead th {\n",
       "        text-align: right;\n",
       "    }\n",
       "</style>\n",
       "<table border=\"1\" class=\"dataframe\">\n",
       "  <thead>\n",
       "    <tr style=\"text-align: right;\">\n",
       "      <th></th>\n",
       "      <th>mean_train_accuracy</th>\n",
       "      <th>mean_test_accuracy</th>\n",
       "      <th>mean_test_recall</th>\n",
       "      <th>mean_test_f1</th>\n",
       "      <th>mean_test_precision</th>\n",
       "    </tr>\n",
       "  </thead>\n",
       "  <tbody>\n",
       "    <tr>\n",
       "      <th>141</th>\n",
       "      <td>0.862587</td>\n",
       "      <td>0.838861</td>\n",
       "      <td>0.828458</td>\n",
       "      <td>0.826132</td>\n",
       "      <td>0.830441</td>\n",
       "    </tr>\n",
       "  </tbody>\n",
       "</table>\n",
       "</div>"
      ],
      "text/plain": [
       "     mean_train_accuracy  mean_test_accuracy  mean_test_recall  mean_test_f1  \\\n",
       "141             0.862587            0.838861          0.828458      0.826132   \n",
       "\n",
       "     mean_test_precision  \n",
       "141             0.830441  "
      ]
     },
     "execution_count": 14,
     "metadata": {},
     "output_type": "execute_result"
    }
   ],
   "source": [
    "cv_results = pd.DataFrame(grid_clf.cv_results_)\n",
    "cv_results[['mean_train_accuracy', 'mean_test_accuracy', 'mean_test_recall', 'mean_test_f1', 'mean_test_precision' ]][141:142]\n"
   ]
  },
  {
   "cell_type": "code",
   "execution_count": 15,
   "metadata": {},
   "outputs": [],
   "source": [
    "best_rf = grid_clf.best_estimator_"
   ]
  },
  {
   "cell_type": "code",
   "execution_count": 16,
   "metadata": {},
   "outputs": [
    {
     "name": "stdout",
     "output_type": "stream",
     "text": [
      "Accuracy: 0.8524590163934426\n",
      "f1=0.830188679245283\n"
     ]
    },
    {
     "data": {
      "text/plain": [
       "28"
      ]
     },
     "execution_count": 16,
     "metadata": {},
     "output_type": "execute_result"
    }
   ],
   "source": [
    "y_pred = grid_clf.predict(x_test)\n",
    "acc_score = accuracy_score(y_test, y_pred)\n",
    "f1 = f1_score(y_test, y_pred)\n",
    "print(f\"Accuracy: {acc_score}\")\n",
    "print(f\"{f1=}\")\n",
    "\n",
    "list(y_test).count(1)"
   ]
  },
  {
   "cell_type": "code",
   "execution_count": 17,
   "metadata": {},
   "outputs": [
    {
     "name": "stdout",
     "output_type": "stream",
     "text": [
      "age : 0.025223352665997546\n",
      "sex : 0.04767724693655114\n",
      "chest_pain_type : 0.1682477367756438\n",
      "rest_blood_pressure : 0.017050950661041005\n",
      "cholesterol : 0.02403916403787304\n",
      "fast_blood_sugar : 0.0017212797275890444\n",
      "rest_ecg : 0.01724414385516326\n",
      "max_hr : 0.10060294298830418\n",
      "ex_ang : 0.0800624982488786\n",
      "st_depression : 0.07222797807122032\n",
      "slope : 0.08960314762928841\n",
      "colrd_vessels : 0.17027942353648567\n",
      "thal : 0.18602013486596405\n"
     ]
    }
   ],
   "source": [
    "for i in range(0, len(best_rf.feature_importances_)):\n",
    "    print(f\"{X.columns[i]} : {best_rf.feature_importances_[i]}\")\n"
   ]
  },
  {
   "cell_type": "code",
   "execution_count": 18,
   "metadata": {},
   "outputs": [],
   "source": [
    "explainer = shap.TreeExplainer(best_rf)\n",
    "shap_values = explainer.shap_values(X)"
   ]
  },
  {
   "cell_type": "code",
   "execution_count": 19,
   "metadata": {},
   "outputs": [
    {
     "data": {
      "image/png": "[encoded data removed]",
      "text/plain": [
       "<Figure size 576x482.4 with 1 Axes>"
      ]
     },
     "metadata": {
      "needs_background": "light"
     },
     "output_type": "display_data"
    }
   ],
   "source": [
    "shap.summary_plot(shap_values[1], X, plot_type='bar', show=False)\n",
    "plt.savefig('shap_bar.png', dpi=200, bbox_inches='tight')\n",
    "plt.show()\n"
   ]
  },
  {
   "cell_type": "code",
   "execution_count": 20,
   "metadata": {},
   "outputs": [
    {
     "data": {
      "image/png": "[encoded data removed]",
      "text/plain": [
       "<Figure size 576x482.4 with 2 Axes>"
      ]
     },
     "metadata": {
      "needs_background": "light"
     },
     "output_type": "display_data"
    }
   ],
   "source": [
    "shap.summary_plot(shap_values[1], X, plot_type='dot',show=False)\n",
    "plt.savefig('shap_summary.png', dpi=200, bbox_inches='tight')\n",
    "plt.show()"
   ]
  },
  {
   "cell_type": "code",
   "execution_count": 21,
   "metadata": {},
   "outputs": [
    {
     "data": {
      "image/png": "[encoded data removed]",
      "text/plain": [
       "<Figure size 1440x216 with 1 Axes>"
      ]
     },
     "metadata": {
      "needs_background": "light"
     },
     "output_type": "display_data"
    }
   ],
   "source": [
    "shap.force_plot(explainer.expected_value[1], shap_values[1][0,:], x_test.iloc[0,:], link=\"logit\", show=False, matplotlib=True)\n",
    "plt.savefig('shap_force.png', dpi=200)\n",
    "plt.show()"
   ]
  },
  {
   "cell_type": "markdown",
   "metadata": {},
   "source": [
    "## Experiment with a Support Vector Machine Model"
   ]
  },
  {
   "cell_type": "code",
   "execution_count": 22,
   "metadata": {},
   "outputs": [],
   "source": [
    "svc = SVC()"
   ]
  },
  {
   "cell_type": "code",
   "execution_count": 23,
   "metadata": {},
   "outputs": [],
   "source": [
    "pipe = Pipeline([('scaler', StandardScaler()), ('svc', SVC())])"
   ]
  },
  {
   "cell_type": "code",
   "execution_count": 24,
   "metadata": {},
   "outputs": [],
   "source": [
    "svr_CV = GridSearchCV(pipe, param_grid={'svc__kernel': ['linear', 'poly', 'rbf', 'sigmoid'],\n",
    "                                       'svc__tol': [1e-3, 1e-2, 1e-1]},\n",
    "                      scoring='f1',\n",
    "                      cv=5, verbose=False, n_jobs=-1)"
   ]
  },
  {
   "cell_type": "code",
   "execution_count": 25,
   "metadata": {},
   "outputs": [
    {
     "data": {
      "text/plain": [
       "GridSearchCV(cv=5,\n",
       "             estimator=Pipeline(steps=[('scaler', StandardScaler()),\n",
       "                                       ('svc', SVC())]),\n",
       "             n_jobs=-1,\n",
       "             param_grid={'svc__kernel': ['linear', 'poly', 'rbf', 'sigmoid'],\n",
       "                         'svc__tol': [0.001, 0.01, 0.1]},\n",
       "             scoring='f1', verbose=False)"
      ]
     },
     "execution_count": 25,
     "metadata": {},
     "output_type": "execute_result"
    }
   ],
   "source": [
    "svr_CV.fit(x_train, y_train)"
   ]
  },
  {
   "cell_type": "code",
   "execution_count": 26,
   "metadata": {},
   "outputs": [
    {
     "data": {
      "text/plain": [
       "0.8193872727763823"
      ]
     },
     "execution_count": 26,
     "metadata": {},
     "output_type": "execute_result"
    }
   ],
   "source": [
    "svr_CV.best_score_"
   ]
  },
  {
   "cell_type": "code",
   "execution_count": 27,
   "metadata": {},
   "outputs": [
    {
     "data": {
      "text/plain": [
       "age                     65.0\n",
       "sex                      1.0\n",
       "chest_pain_type          4.0\n",
       "rest_blood_pressure    120.0\n",
       "cholesterol            177.0\n",
       "fast_blood_sugar         0.0\n",
       "rest_ecg                 0.0\n",
       "max_hr                 140.0\n",
       "ex_ang                   0.0\n",
       "st_depression            0.4\n",
       "slope                    1.0\n",
       "colrd_vessels            0.0\n",
       "thal                     7.0\n",
       "Name: 51, dtype: float64"
      ]
     },
     "execution_count": 27,
     "metadata": {},
     "output_type": "execute_result"
    }
   ],
   "source": [
    "x_test.iloc[0,:]"
   ]
  }
 ],
 "metadata": {
  "kernelspec": {
   "display_name": "Python 3",
   "language": "python",
   "name": "python3"
  },
  "language_info": {
   "codemirror_mode": {
    "name": "ipython",
    "version": 3
   },
   "file_extension": ".py",
   "mimetype": "text/x-python",
   "name": "python",
   "nbconvert_exporter": "python",
   "pygments_lexer": "ipython3",
   "version": "3.8.5"
  }
 },
 "nbformat": 4,
 "nbformat_minor": 4
}
